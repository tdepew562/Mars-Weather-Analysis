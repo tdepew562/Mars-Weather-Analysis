{
 "cells": [
  {
   "cell_type": "markdown",
   "metadata": {},
   "source": [
    "# Module 12 Challenge\n",
    "## Deliverable 1: Scrape Titles and Preview Text from Mars News"
   ]
  },
  {
   "cell_type": "code",
   "execution_count": 1,
   "metadata": {},
   "outputs": [
    {
     "name": "stdout",
     "output_type": "stream",
     "text": [
      "{'title': \"NASA's MAVEN Observes Martian Light Show Caused by Major Solar Storm\", 'preview': 'For the first time in its eight years orbiting Mars, NASA’s MAVEN mission witnessed two different types of ultraviolet aurorae simultaneously, the result of solar storms that began on Aug. 27.'}\n",
      "{'title': \"NASA Prepares to Say 'Farewell' to InSight Spacecraft\", 'preview': 'A closer look at what goes into wrapping up the mission as the spacecraft’s power supply continues to dwindle.'}\n",
      "{'title': 'NASA and ESA Agree on Next Steps to Return Mars Samples to Earth', 'preview': 'The agency’s Perseverance rover will establish the first sample depot on Mars.'}\n",
      "{'title': \"NASA's InSight Lander Detects Stunning Meteoroid Impact on Mars\", 'preview': 'The agency’s lander felt the ground shake during the impact while cameras aboard the Mars Reconnaissance Orbiter spotted the yawning new crater from space.'}\n",
      "{'title': 'NASA To Host Briefing on InSight, Mars Reconnaissance Orbiter Findings', 'preview': 'Scientists from two Mars missions will discuss how they combined images and data for a major finding on the Red Planet.'}\n",
      "{'title': 'Why NASA Is Trying To Crash Land on Mars', 'preview': 'Like a car’s crumple zone, the experimental SHIELD lander is designed to absorb a hard impact.'}\n",
      "{'title': 'Curiosity Mars Rover Reaches Long-Awaited Salty Region', 'preview': 'After years of climbing, the Mars rover has arrived at a special region believed to have formed as Mars’ climate was drying.'}\n",
      "{'title': 'Mars Mission Shields Up for Tests', 'preview': 'Protecting Mars Sample Return spacecraft from micrometeorites requires high-caliber work.'}\n",
      "{'title': \"NASA's InSight Waits Out Dust Storm\", 'preview': 'InSight’s team is taking steps to help the solar-powered lander continue operating for as long as possible.'}\n",
      "{'title': \"NASA's InSight 'Hears' Its First Meteoroid Impacts on Mars\", 'preview': 'The Mars lander’s seismometer has picked up vibrations from four separate impacts in the past two years.'}\n",
      "{'title': \"NASA's Perseverance Rover Investigates Geologically Rich Mars Terrain\", 'preview': 'The latest findings provide greater detail on a region of the Red Planet that has a watery past and is yielding promising samples for the NASA-ESA Mars Sample Return campaign.'}\n",
      "{'title': 'NASA to Host Briefing on Perseverance Mars Rover Mission Operations', 'preview': 'Members of the mission will discuss the rover’s activities as it gathers samples in an ancient river delta.'}\n",
      "{'title': \"NASA's Perseverance Makes New Discoveries in Mars' Jezero Crater\", 'preview': 'The rover found that Jezero Crater’s floor is made up of volcanic rocks that have interacted with water.'}\n",
      "{'title': \"10 Years Since Landing, NASA's Curiosity Mars Rover Still Has Drive\", 'preview': 'Despite signs of wear, the intrepid spacecraft is about to start an exciting new chapter of its mission as it climbs a Martian mountain.'}\n",
      "{'title': \"SAM's Top 5 Discoveries Aboard NASA's Curiosity Rover at Mars\", 'preview': '“Selfie” of the Curiosity rover with inset showing the SAM instrument prior to installation on the rover.'}\n",
      "Scraped data has been stored in resources\\mars_news_data.json\n"
     ]
    }
   ],
   "source": [
    "from splinter import Browser\n",
    "from bs4 import BeautifulSoup as soup\n",
    "import json\n",
    "import os\n",
    "\n",
    "# Initialize the browser (make sure the Chrome WebDriver is in your PATH)\n",
    "browser = Browser('chrome')\n",
    "\n",
    "# Visit the Mars news site\n",
    "url = 'https://static.bc-edx.com/data/web/mars_news/index.html'\n",
    "browser.visit(url)\n",
    "\n",
    "# Get the HTML content of the website\n",
    "html = browser.html\n",
    "\n",
    "# Create a Beautiful Soup object\n",
    "mars_news_soup = soup(html, 'html.parser')\n",
    "\n",
    "# Initialize an empty list to store the scraping results\n",
    "scraped_data = []\n",
    "\n",
    "# Extract titles and preview text\n",
    "articles = mars_news_soup.find_all('div', class_='list_text')\n",
    "for article in articles:\n",
    "    # Extract title\n",
    "    title = article.find('div', class_='content_title').text.strip()\n",
    "    \n",
    "    # Extract preview text\n",
    "    preview = article.find('div', class_='article_teaser_body').text.strip()\n",
    "    \n",
    "    # Create a dictionary to store title and preview text\n",
    "    article_dict = {'title': title, 'preview': preview}\n",
    "    \n",
    "    # Append the dictionary to the list of scraping results\n",
    "    scraped_data.append(article_dict)\n",
    "\n",
    "# Print the list of scraping results\n",
    "for article in scraped_data:\n",
    "    print(article)\n",
    "\n",
    "# Define the path to the resources folder\n",
    "resources_folder = \"resources\"\n",
    "\n",
    "# Create the resources folder if it doesn't exist\n",
    "if not os.path.exists(resources_folder):\n",
    "    os.makedirs(resources_folder)\n",
    "\n",
    "# Define the path to the JSON file within the resources folder\n",
    "output_file = os.path.join(resources_folder, \"mars_news_data.json\")\n",
    "\n",
    "# Store the scraped data in the JSON file within the resources folder\n",
    "with open(output_file, \"w\") as f:\n",
    "    json.dump(scraped_data, f)\n",
    "\n",
    "print(f\"Scraped data has been stored in {output_file}\")\n",
    "\n",
    "# Quit the browser\n",
    "browser.quit()\n"
   ]
  }
 ],
 "metadata": {
  "kernelspec": {
   "display_name": "Python 3 (ipykernel)",
   "language": "python",
   "name": "python3"
  },
  "language_info": {
   "codemirror_mode": {
    "name": "ipython",
    "version": 3
   },
   "file_extension": ".py",
   "mimetype": "text/x-python",
   "name": "python",
   "nbconvert_exporter": "python",
   "pygments_lexer": "ipython3",
   "version": "3.11.5"
  },
  "vscode": {
   "interpreter": {
    "hash": "31f2aee4e71d21fbe5cf8b01ff0e069b9275f58929596ceb00d14d90e3e16cd6"
   }
  }
 },
 "nbformat": 4,
 "nbformat_minor": 4
}
